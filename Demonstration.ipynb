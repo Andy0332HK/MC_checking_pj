{
  "nbformat": 4,
  "nbformat_minor": 0,
  "metadata": {
    "colab": {
      "name": "FinalVersion.ipynb",
      "provenance": [],
      "collapsed_sections": []
    },
    "kernelspec": {
      "name": "python3",
      "display_name": "Python 3"
    },
    "language_info": {
      "name": "python"
    }
  },
  "cells": [
    {
      "cell_type": "code",
      "execution_count": null,
      "metadata": {
        "colab": {
          "base_uri": "https://localhost:8080/"
        },
        "id": "GFK0gceidj8P",
        "outputId": "df996ecb-c87e-419b-b62d-89623dfc767d"
      },
      "outputs": [
        {
          "output_type": "stream",
          "name": "stdout",
          "text": [
            "Reading package lists... Done\n",
            "Building dependency tree       \n",
            "Reading state information... Done\n",
            "The following additional packages will be installed:\n",
            "  libv4l-0 libv4lconvert0\n",
            "The following NEW packages will be installed:\n",
            "  libv4l-0 libv4lconvert0 libzbar0\n",
            "0 upgraded, 3 newly installed, 0 to remove and 37 not upgraded.\n",
            "Need to get 193 kB of archives.\n",
            "After this operation, 760 kB of additional disk space will be used.\n",
            "Get:1 http://archive.ubuntu.com/ubuntu bionic/main amd64 libv4lconvert0 amd64 1.14.2-1 [76.1 kB]\n",
            "Get:2 http://archive.ubuntu.com/ubuntu bionic/main amd64 libv4l-0 amd64 1.14.2-1 [41.7 kB]\n",
            "Get:3 http://archive.ubuntu.com/ubuntu bionic/universe amd64 libzbar0 amd64 0.10+doc-10.1build2 [75.7 kB]\n",
            "Fetched 193 kB in 1s (268 kB/s)\n",
            "Selecting previously unselected package libv4lconvert0:amd64.\n",
            "(Reading database ... 155229 files and directories currently installed.)\n",
            "Preparing to unpack .../libv4lconvert0_1.14.2-1_amd64.deb ...\n",
            "Unpacking libv4lconvert0:amd64 (1.14.2-1) ...\n",
            "Selecting previously unselected package libv4l-0:amd64.\n",
            "Preparing to unpack .../libv4l-0_1.14.2-1_amd64.deb ...\n",
            "Unpacking libv4l-0:amd64 (1.14.2-1) ...\n",
            "Selecting previously unselected package libzbar0:amd64.\n",
            "Preparing to unpack .../libzbar0_0.10+doc-10.1build2_amd64.deb ...\n",
            "Unpacking libzbar0:amd64 (0.10+doc-10.1build2) ...\n",
            "Setting up libv4lconvert0:amd64 (1.14.2-1) ...\n",
            "Setting up libv4l-0:amd64 (1.14.2-1) ...\n",
            "Setting up libzbar0:amd64 (0.10+doc-10.1build2) ...\n",
            "Processing triggers for libc-bin (2.27-3ubuntu1.3) ...\n",
            "/sbin/ldconfig.real: /usr/local/lib/python3.7/dist-packages/ideep4py/lib/libmkldnn.so.0 is not a symbolic link\n",
            "\n",
            "Collecting pyzbar\n",
            "  Downloading pyzbar-0.1.8-py2.py3-none-any.whl (28 kB)\n",
            "Installing collected packages: pyzbar\n",
            "Successfully installed pyzbar-0.1.8\n"
          ]
        }
      ],
      "source": [
        "!apt install libzbar0\n",
        "!pip install pyzbar"
      ]
    },
    {
      "cell_type": "code",
      "source": [
        "from google.colab import drive\n",
        "drive.mount('/content/drive')"
      ],
      "metadata": {
        "colab": {
          "base_uri": "https://localhost:8080/"
        },
        "id": "1nKGFzFId0y4",
        "outputId": "439975e4-f2e2-4b09-82d5-7b281724195a"
      },
      "execution_count": null,
      "outputs": [
        {
          "output_type": "stream",
          "name": "stdout",
          "text": [
            "Mounted at /content/drive\n"
          ]
        }
      ]
    },
    {
      "cell_type": "code",
      "source": [
        "#import the libraries\n",
        "import os\n",
        "os.environ[\"TF_CPP_MIN_LOG_LEVEL\"] = \"2\"\n",
        "import tensorflow as tf\n",
        "from tensorflow import keras\n",
        "from keras.layers import Dense, Flatten, Conv2D, MaxPooling2D, Dropout\n",
        "from tensorflow.keras import layers\n",
        "from tensorflow.keras.utils import to_categorical\n",
        "from tensorflow.keras.preprocessing.image import ImageDataGenerator\n",
        "import cv2\n",
        "import numpy as np\n",
        "import matplotlib.pyplot as plt \n",
        "from IPython.display import Image, display \n",
        "from pyzbar.pyzbar import decode\n",
        "import keras\n",
        "from PIL import Image, ImageOps\n",
        "\n",
        "\n",
        "plt.style.use('fivethirtyeight')\n",
        "\n",
        "print(\"Num GPUs Available: \", len(tf.config.list_physical_devices('GPU')))\n",
        "print('Keras version:', tf.keras.__version__)\n",
        "print('Tensorflow version:',tf.__version__)"
      ],
      "metadata": {
        "id": "aeW8Lkp1eCsg",
        "outputId": "0a3e143e-92df-4665-8e4e-933fe8c44ed2",
        "colab": {
          "base_uri": "https://localhost:8080/"
        }
      },
      "execution_count": null,
      "outputs": [
        {
          "output_type": "stream",
          "name": "stdout",
          "text": [
            "Num GPUs Available:  0\n",
            "Keras version: 2.7.0\n",
            "Tensorflow version: 2.7.0\n"
          ]
        }
      ]
    },
    {
      "cell_type": "code",
      "source": [
        "img = cv2.imread(\"/content/drive/MyDrive/15122021090430-0072.tif\")\n",
        "\n",
        "code = decode(img)\n",
        "print(code)"
      ],
      "metadata": {
        "colab": {
          "base_uri": "https://localhost:8080/"
        },
        "id": "d_EMH-Xirs2F",
        "outputId": "351dee49-7fdd-42e0-9e13-bc1def618535"
      },
      "execution_count": null,
      "outputs": [
        {
          "output_type": "stream",
          "name": "stdout",
          "text": [
            "[Decoded(data=b'14', type='QRCODE', rect=Rect(left=1380, top=1791, width=208, height=201), polygon=[Point(x=1380, y=1791), Point(x=1381, y=1992), Point(x=1588, y=1992), Point(x=1587, y=1791)]), Decoded(data=b'15', type='QRCODE', rect=Rect(left=1382, top=2185, width=207, height=201), polygon=[Point(x=1382, y=2185), Point(x=1382, y=2386), Point(x=1589, y=2386), Point(x=1588, y=2185)]), Decoded(data=b'13\\n', type='QRCODE', rect=Rect(left=1379, top=1341, width=207, height=202), polygon=[Point(x=1379, y=1343), Point(x=1379, y=1543), Point(x=1586, y=1543), Point(x=1586, y=1341)]), Decoded(data=b'12\\n', type='QRCODE', rect=Rect(left=1379, top=889, width=207, height=202), polygon=[Point(x=1379, y=889), Point(x=1379, y=1091), Point(x=1586, y=1090), Point(x=1586, y=889)]), Decoded(data=b'11', type='QRCODE', rect=Rect(left=1378, top=482, width=207, height=201), polygon=[Point(x=1378, y=482), Point(x=1379, y=683), Point(x=1585, y=682), Point(x=1585, y=482)])]\n"
          ]
        }
      ]
    },
    {
      "cell_type": "code",
      "source": [
        "rows, columns, _ = img.shape\n",
        "print(\"rows :\",rows)\n",
        "print(\"columns :\",columns)"
      ],
      "metadata": {
        "id": "NpV3tT2Rrxjg",
        "outputId": "c7c689b3-0bdb-4ca3-9b6c-5fadd01075b3",
        "colab": {
          "base_uri": "https://localhost:8080/"
        }
      },
      "execution_count": null,
      "outputs": [
        {
          "output_type": "stream",
          "name": "stdout",
          "text": [
            "rows : 3510\n",
            "columns : 2482\n"
          ]
        }
      ]
    },
    {
      "cell_type": "code",
      "source": [
        "plt.imshow(img)"
      ],
      "metadata": {
        "id": "U_5jvC3PryGw",
        "outputId": "4711a1ef-43b6-4b0b-c49f-91a189130272",
        "colab": {
          "base_uri": "https://localhost:8080/",
          "height": 304
        }
      },
      "execution_count": null,
      "outputs": [
        {
          "output_type": "execute_result",
          "data": {
            "text/plain": [
              "<matplotlib.image.AxesImage at 0x7fb149d53dd0>"
            ]
          },
          "metadata": {},
          "execution_count": 21
        },
        {
          "output_type": "display_data",
          "data": {
            "image/png": "[encoded data removed]",
            "text/plain": [
              "<Figure size 432x288 with 1 Axes>"
            ]
          },
          "metadata": {}
        }
      ]
    },
    {
      "cell_type": "code",
      "source": [
        "cut_img_qr = img[496: 698, 1377: 1579]\n",
        "plt.imshow(cut_img_qr)"
      ],
      "metadata": {
        "id": "h3votcqYr0nU",
        "outputId": "6da7c1fe-5fc9-4f50-b96e-129503c4bfd4",
        "colab": {
          "base_uri": "https://localhost:8080/",
          "height": 304
        }
      },
      "execution_count": null,
      "outputs": [
        {
          "output_type": "execute_result",
          "data": {
            "text/plain": [
              "<matplotlib.image.AxesImage at 0x7fb14a482450>"
            ]
          },
          "metadata": {},
          "execution_count": 22
        },
        {
          "output_type": "display_data",
          "data": {
            "image/png": "[encoded data removed]",
            "text/plain": [
              "<Figure size 432x288 with 1 Axes>"
            ]
          },
          "metadata": {}
        }
      ]
    },
    {
      "cell_type": "code",
      "source": [
        "cut_img_mc = img[496-24: 698+24, 1377+212: 1377+202+660]\n",
        "plt.imshow(cut_img_mc)"
      ],
      "metadata": {
        "id": "ZvGgnS6-r2wk",
        "colab": {
          "base_uri": "https://localhost:8080/",
          "height": 215
        },
        "outputId": "2ab57f5d-880d-43d7-f9c5-9231965b2f67"
      },
      "execution_count": null,
      "outputs": [
        {
          "output_type": "execute_result",
          "data": {
            "text/plain": [
              "<matplotlib.image.AxesImage at 0x7fb14a11cc50>"
            ]
          },
          "metadata": {},
          "execution_count": 23
        },
        {
          "output_type": "display_data",
          "data": {
            "image/png": "[encoded data removed]",
            "text/plain": [
              "<Figure size 432x288 with 1 Axes>"
            ]
          },
          "metadata": {}
        }
      ]
    },
    {
      "cell_type": "code",
      "source": [
        "num_list = []\n",
        "rect_list = []\n",
        "for barcode in decode(img):\n",
        "  print(barcode.rect)\n",
        "  MyData = barcode.data.decode('utf-8')\n",
        "  print(MyData)\n",
        "  num_list.append(MyData)\n",
        "  rect_list.append(barcode.rect)\n",
        "\n",
        "print(num_list)\n",
        "print(rect_list)\n",
        "\n",
        "cut_img_mc_list = []\n",
        "for y in range(0, len(rect_list)):\n",
        "  cut_img_y = img[rect_list[y].top - 24: rect_list[y].top + 226, rect_list[y].left + 212: rect_list[y].left + 862]\n",
        "  cut_img_mc_list.append(cut_img_y)\n"
      ],
      "metadata": {
        "colab": {
          "base_uri": "https://localhost:8080/"
        },
        "id": "PDxytoovf2hp",
        "outputId": "2b1eded5-f5f1-4007-ee1c-f69d03258d03"
      },
      "execution_count": null,
      "outputs": [
        {
          "output_type": "stream",
          "name": "stdout",
          "text": [
            "Rect(left=1380, top=1791, width=208, height=201)\n",
            "14\n",
            "Rect(left=1382, top=2185, width=207, height=201)\n",
            "15\n",
            "Rect(left=1379, top=1341, width=207, height=202)\n",
            "13\n",
            "\n",
            "Rect(left=1379, top=889, width=207, height=202)\n",
            "12\n",
            "\n",
            "Rect(left=1378, top=482, width=207, height=201)\n",
            "11\n",
            "['14', '15', '13\\n', '12\\n', '11']\n",
            "[Rect(left=1380, top=1791, width=208, height=201), Rect(left=1382, top=2185, width=207, height=201), Rect(left=1379, top=1341, width=207, height=202), Rect(left=1379, top=889, width=207, height=202), Rect(left=1378, top=482, width=207, height=201)]\n"
          ]
        }
      ]
    },
    {
      "cell_type": "code",
      "source": [
        "model = keras.models.load_model('/content/drive/MyDrive/mc_model.h5')"
      ],
      "metadata": {
        "id": "GYn3dQKbeIVv",
        "outputId": "a8131484-86c2-4ec4-dab3-718e82f1090b",
        "colab": {
          "base_uri": "https://localhost:8080/"
        }
      },
      "execution_count": null,
      "outputs": [
        {
          "output_type": "stream",
          "name": "stdout",
          "text": [
            "WARNING:tensorflow:No training configuration found in the save file, so the model was *not* compiled. Compile it manually.\n"
          ]
        }
      ]
    },
    {
      "cell_type": "code",
      "source": [
        "result = {}\n",
        "for index, img in enumerate(cut_img_mc_list):\n",
        "  data = np.ndarray(shape=(1, 224, 224, 3), dtype=np.float32)\n",
        "\n",
        "  img = cv2.cvtColor(cv2.resize(img, (224,224)), cv2.COLOR_BGR2RGB)\n",
        "  image = Image.fromarray(img)\n",
        "\n",
        "  size = (224, 224)\n",
        "  image = ImageOps.fit(image, size, Image.ANTIALIAS)\n",
        "\n",
        "  image_array = np.asarray(image)\n",
        "\n",
        "  normalized_image_array = (image_array.astype(np.float32) / 127.0) - 1\n",
        "\n",
        "  data[0] = normalized_image_array\n",
        "\n",
        "  prediction = model.predict(data)\n",
        "  pd = np.array(prediction).tolist()\n",
        "  categories = ['A','B','C','D']\n",
        "  result[int(num_list[index])] = categories[pd[0].index(prediction.max())]\n",
        "sresult = {}\n",
        "for i in sorted(result):\n",
        "  sresult[i] = result[i]\n",
        "print(sresult)"
      ],
      "metadata": {
        "id": "Aey2BGeFeJum",
        "outputId": "75572657-46c9-4750-9030-786a1964e1a4",
        "colab": {
          "base_uri": "https://localhost:8080/"
        }
      },
      "execution_count": null,
      "outputs": [
        {
          "output_type": "stream",
          "name": "stdout",
          "text": [
            "{11: 'C', 12: 'C', 13: 'C', 14: 'C', 15: 'C'}\n"
          ]
        }
      ]
    }
  ]
}